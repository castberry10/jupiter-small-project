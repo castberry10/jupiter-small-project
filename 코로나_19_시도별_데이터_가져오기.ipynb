{
  "nbformat": 4,
  "nbformat_minor": 0,
  "metadata": {
    "colab": {
      "name": "코로나 19 시도별 데이터 가져오기",
      "provenance": [],
      "collapsed_sections": [],
      "include_colab_link": true
    },
    "kernelspec": {
      "name": "python3",
      "display_name": "Python 3"
    }
  },
  "cells": [
    {
      "cell_type": "markdown",
      "metadata": {
        "id": "view-in-github",
        "colab_type": "text"
      },
      "source": [
        "<a href=\"https://colab.research.google.com/github/castberry10/jupiter-small-project/blob/main/%EC%BD%94%EB%A1%9C%EB%82%98_19_%EC%8B%9C%EB%8F%84%EB%B3%84_%EB%8D%B0%EC%9D%B4%ED%84%B0_%EA%B0%80%EC%A0%B8%EC%98%A4%EA%B8%B0.ipynb\" target=\"_parent\"><img src=\"https://colab.research.google.com/assets/colab-badge.svg\" alt=\"Open In Colab\"/></a>"
      ]
    },
    {
      "cell_type": "code",
      "metadata": {
        "id": "P9PZ-skYyKcN",
        "outputId": "c80c94b7-aa29-4660-dc1d-faebc492222c",
        "colab": {
          "base_uri": "https://localhost:8080/",
          "height": 35
        }
      },
      "source": [
        "from google.colab import drive\n",
        "drive.mount('/content/gdrive')"
      ],
      "execution_count": null,
      "outputs": [
        {
          "output_type": "stream",
          "text": [
            "Mounted at /content/gdrive\n"
          ],
          "name": "stdout"
        }
      ]
    },
    {
      "cell_type": "markdown",
      "metadata": {
        "id": "ZSNtWtQDrQso"
      },
      "source": [
        "# OPEN API는 국가에서 제공하는 특정 웹 서비스\n",
        "# 유기동물 데이터, 코로나 19 시도별 데이터 / 연령 성별 데이터, 기타 등등 다양한 자료를 실시간으로 얻어올 수 있는 기능을 제공\n",
        "# 위와 같은 기능을 활용한다면 자신의 관심 분야에서 필요로 한 데이터를 즉각적으로 불러올 수 있고 이를 어플리케이션, 프로그램 제작, 보고서 제작에 활용할 수 있음.\n",
        "# 코로나 19 시도별 확진자를 얻기 위한 KEY \n",
        "cgJemkPipL7xn4h%2FGjSkDKZ9wTI9KsgkYlSOJwq5nElyVBtwzBxgkstIczadl%2BK%2FsKTo0mY8BbRHXa%2Bws0ZPzg%3D%3D"
      ]
    },
    {
      "cell_type": "code",
      "metadata": {
        "id": "D3HWTf6yeMVM",
        "outputId": "a726ea28-6859-450b-f344-e8c8da8bc9f3",
        "colab": {
          "base_uri": "https://localhost:8080/",
          "height": 89
        }
      },
      "source": [
        "import requests, bs4\n",
        "from lxml import html\n",
        "from urllib.request import Request, urlopen\n",
        "from urllib.parse import unquote, quote_plus, urlencode\n",
        "from xml.etree import ElementTree as ET\n",
        "from datetime import datetime, timedelta, date\n",
        "\n",
        "# Service URL\n",
        "xmlUrl = 'http://openapi.data.go.kr/openapi/service/rest/Covid19/getCovid19SidoInfStateJson'\n",
        "\n",
        "My_API_Key = unquote('cgJemkPipL7xn4h%2FGjSkDKZ9wTI9KsgkYlSOJwq5nElyVBtwzBxgkstIczadl%2BK%2FsKTo0mY8BbRHXa%2Bws0ZPzg%3D%3D') ## 본인의 키를 공공데이터포털에서 받아서 입력(입력필요) -> 자신의 키로 바꿔도 됨 \n",
        "f=open(\"/content/gdrive/My Drive/DPL/abc.csv\",'w') ## 자신이 원하는 이름을 입력하기 \n",
        "f.write(\"날짜\"+\",\"+\"도시\"+\",\"+\"총확진자\"+\",\"+\"증감량\"+\"\\n\") ##데이터 제목 파일에 입력하기 \n",
        "\n",
        "timestart=date(2020,10,1)    ##시작할 날짜 지정(3월부터 데이터가 있음)\n",
        "\n",
        "while date.today()>timestart:\n",
        "    dstart=timestart.strftime(\"%Y%m%d\")\n",
        "    queryParams = '?' + urlencode(\n",
        "        {\n",
        "            quote_plus('ServiceKey') : My_API_Key,\n",
        "            quote_plus('startCreateDt') : dstart,\n",
        "            quote_plus('endCreateDt') : dstart\n",
        "        }\n",
        "    )\n",
        "    try:\n",
        "        response = requests.get(xmlUrl + queryParams).text.encode('utf-8')\n",
        "        #print(response) #응답 확인용 코드\n",
        "        root = ET.fromstring(response)\n",
        "        items = root.findall('.//item')\n",
        "        for item in items:\n",
        "            city = item.find('gubun').text      #도시명(한글)\n",
        "            confirm = item.find('defCnt').text  #확진자 누적수\n",
        "            incdec = item.find('incDec').text   #확진자 증감량\n",
        "            dstart2=timestart-timedelta(days=1) #하루전 데이터기 때문에 하루 빼줌\n",
        "            dstart2=dstart2.strftime(\"%Y/%m/%d\")\n",
        "            f.write(dstart2+\",\"+city+\",\"+confirm+\",\"+incdec+\"\\n\")\n",
        "        print(dstart,\"자료 기록중\")\n",
        "    except Exception as e:\n",
        "        print(dstart,e)\n",
        "    timestart=timestart+timedelta(days=1)\n",
        "f.close()"
      ],
      "execution_count": null,
      "outputs": [
        {
          "output_type": "stream",
          "text": [
            "20201001 자료 기록중\n",
            "20201002 자료 기록중\n",
            "20201003 자료 기록중\n",
            "20201004 자료 기록중\n"
          ],
          "name": "stdout"
        }
      ]
    },
    {
      "cell_type": "code",
      "metadata": {
        "id": "DklZ9lfAsJoz",
        "outputId": "404dd505-7d04-4cc3-e159-a1643d595c76",
        "colab": {
          "base_uri": "https://localhost:8080/",
          "height": 89
        }
      },
      "source": [
        "import requests, bs4\n",
        "from lxml import html\n",
        "from urllib.request import Request, urlopen\n",
        "from urllib.parse import unquote, quote_plus, urlencode\n",
        "from xml.etree import ElementTree as ET\n",
        "from datetime import datetime, timedelta, date\n",
        "\n",
        "# Service URL\n",
        "xmlUrl = 'http://openapi.data.go.kr/openapi/service/rest/Covid19/getCovid19SidoInfStateJson'\n",
        "\n",
        "My_API_Key = unquote('cgJemkPipL7xn4h%2FGjSkDKZ9wTI9KsgkYlSOJwq5nElyVBtwzBxgkstIczadl%2BK%2FsKTo0mY8BbRHXa%2Bws0ZPzg%3D%3D') ## 본인의 키를 공공데이터포털에서 받아서 입력(입력필요) -> 자신의 키로 바꿔도 됨 \n",
        "f=open(\"/content/gdrive/My Drive/DPL/지역감염.csv\",'w') ## 자신이 원하는 이름을 입력하기 \n",
        "f.write(\"날짜\"+\",\"+\"도시\"+\",\"+\"총확진자\"+\",\"+\"증감량\"+\",\"+ \"지역감염\"+\"\\n\") ##데이터 제목 파일에 입력하기 \n",
        "\n",
        "timestart=date(2020,10,1)    ##시작할 날짜 지정(3월부터 데이터가 있음)\n",
        "\n",
        "while date.today()>timestart:\n",
        "    dstart=timestart.strftime(\"%Y%m%d\")\n",
        "    queryParams = '?' + urlencode(\n",
        "        {\n",
        "            quote_plus('ServiceKey') : My_API_Key,\n",
        "            quote_plus('startCreateDt') : dstart,\n",
        "            quote_plus('endCreateDt') : dstart\n",
        "        }\n",
        "    )\n",
        "    try:\n",
        "        response = requests.get(xmlUrl + queryParams).text.encode('utf-8')\n",
        "        #print(response) #응답 확인용 코드\n",
        "        root = ET.fromstring(response)\n",
        "        items = root.findall('.//item')\n",
        "        for item in items:\n",
        "            city = item.find('gubun').text      #도시명(한글)\n",
        "            confirm = item.find('defCnt').text  #확진자 누적수\n",
        "            incdec = item.find('incDec').text   #확진자 증감량\n",
        "            korea = item.find('isolClearCnt').text\n",
        "            dstart2=timestart-timedelta(days=1) #하루전 데이터기 때문에 하루 빼줌\n",
        "            dstart2=dstart2.strftime(\"%Y/%m/%d\")\n",
        "            f.write(dstart2+\",\"+city+\",\"+confirm+\",\"+incdec+\", \"+ korea +\" ,\" + \"\\n\" )\n",
        "        print(dstart,\"자료 기록중\")\n",
        "    except Exception as e:\n",
        "        print(dstart,e)\n",
        "    timestart=timestart+timedelta(days=1)\n",
        "f.close()"
      ],
      "execution_count": null,
      "outputs": [
        {
          "output_type": "stream",
          "text": [
            "20201001 자료 기록중\n",
            "20201002 자료 기록중\n",
            "20201003 자료 기록중\n",
            "20201004 자료 기록중\n"
          ],
          "name": "stdout"
        }
      ]
    }
  ]
}